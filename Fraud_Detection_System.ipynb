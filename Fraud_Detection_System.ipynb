{
 "cells": [
  {
   "cell_type": "markdown",
   "id": "a0ead315",
   "metadata": {},
   "source": [
    "# Fraud Detection System\n",
    "Detect fraudulent transactions using simple models."
   ]
  },
  {
   "cell_type": "code",
   "execution_count": null,
   "id": "c0dbdad1",
   "metadata": {},
   "outputs": [],
   "source": [
    "import pandas as pd\n",
    "import numpy as np\n",
    "from sklearn.model_selection import train_test_split\n",
    "from sklearn.ensemble import IsolationForest\n",
    "from sklearn.linear_model import LogisticRegression\n",
    "from sklearn.metrics import classification_report, confusion_matrix, roc_auc_score\n",
    "from sklearn.metrics import f1_score, roc_auc_score"
   ]
  },
  {
   "cell_type": "code",
   "execution_count": null,
   "id": "7fcd6c81",
   "metadata": {},
   "outputs": [],
   "source": [
    "data = pd.read_csv('frauddetection.csv')\n",
    "print(\"Data shape:\", data.shape)\n",
    "data.head()"
   ]
  },
  {
   "cell_type": "code",
   "execution_count": null,
   "id": "14ec0617",
   "metadata": {},
   "outputs": [],
   "source": [
    "# Step 2: Convert categorical values (location, type) to numbers\n",
    "data = pd.get_dummies(data, columns=['location', 'transaction_type'])"
   ]
  },
  {
   "cell_type": "code",
   "execution_count": null,
   "id": "0c798c1e",
   "metadata": {},
   "outputs": [],
   "source": [
    "# Step 3: Split features from target\n",
    "X = data.drop('is_fraud', axis=1)\n",
    "y = data['is_fraud']"
   ]
  },
  {
   "cell_type": "code",
   "execution_count": null,
   "id": "7107b582",
   "metadata": {},
   "outputs": [],
   "source": [
    "# Step 4: Train Isolation Forest (anomaly detection)\n",
    "X_train, X_test, y_train, y_test = train_test_split(X, y, test_size=0.2, random_state=42)\n",
    "model = IsolationForest(contamination=0.05, random_state=42) # 5% estimated fraud\n",
    "model.fit(X)"
   ]
  },
  {
   "cell_type": "code",
   "execution_count": null,
   "id": "8c5df127",
   "metadata": {},
   "outputs": [],
   "source": [
    "# Step 5: Predict anomalies in the data (-1: anomaly/fraud, 1: normal)\n",
    "preds = model.predict(X)\n",
    "preds = [1 if p == -1 else 0 for p in preds]"
   ]
  },
  {
   "cell_type": "code",
   "execution_count": null,
   "id": "0dc8a995-65f6-47ca-95c2-566f8de43214",
   "metadata": {},
   "outputs": [],
   "source": [
    "# Step 6: Check how well anomalies match the actual fraud labels\n",
    "print(\"F1 Score:\", f1_score(y, preds))\n",
    "print(\"ROC AUC Score:\", roc_auc_score(y, preds))\n"
   ]
  },
  {
   "cell_type": "code",
   "execution_count": null,
   "id": "55e82093-657b-49ab-b011-b9a71d82f8d0",
   "metadata": {},
   "outputs": [],
   "source": []
  },
  {
   "cell_type": "code",
   "execution_count": null,
   "id": "9dc3ad88-8ff0-47a7-a13d-3ea67c464a9e",
   "metadata": {},
   "outputs": [],
   "source": []
  }
 ],
 "metadata": {
  "kernelspec": {
   "display_name": "Python 3 (ipykernel)",
   "language": "python",
   "name": "python3"
  },
  "language_info": {
   "codemirror_mode": {
    "name": "ipython",
    "version": 3
   },
   "file_extension": ".py",
   "mimetype": "text/x-python",
   "name": "python",
   "nbconvert_exporter": "python",
   "pygments_lexer": "ipython3",
   "version": "3.12.4"
  }
 },
 "nbformat": 4,
 "nbformat_minor": 5
}
